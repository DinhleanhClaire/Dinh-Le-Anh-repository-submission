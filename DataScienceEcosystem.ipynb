{
 "cells": [
  {
   "attachments": {},
   "cell_type": "markdown",
   "id": "a8ebe687-6a80-430f-9138-87ff3ecb1cb0",
   "metadata": {},
   "source": [
    "# Data Science Tools and Ecosystem\r\n"
   ]
  },
  {
   "cell_type": "markdown",
   "id": "d08c38d2-fbc7-41fc-bf8e-5dd10e072453",
   "metadata": {},
   "source": [
    "In this notebook, Data Science Tools and Ecosystem are summarized.\r\n"
   ]
  },
  {
   "cell_type": "markdown",
   "id": "f813cdce-a14d-4b90-8b9c-b2a6c735b3b0",
   "metadata": {},
   "source": [
    "**Objectives:**\n",
    "- List popular languages for Data Science\n",
    "- List commonly used libraries in Data Science\n",
    "- Display examples of arithmetic operations in Python"
   ]
  },
  {
   "cell_type": "markdown",
   "id": "2b6d0b64-1b60-48de-9b71-bede9b54a550",
   "metadata": {},
   "source": [
    "Some of the popular languages that Data Scientists use are:\r\n",
    "1. Python\r\n",
    "2. R\r\n",
    "3.  Java\r\n"
   ]
  },
  {
   "cell_type": "markdown",
   "id": "a7ffd6a6-d1f9-4810-baf8-67e9fd1a9cfb",
   "metadata": {},
   "source": [
    "Some of the commonly used libraries used by Data Scientists include:\n",
    "1. Pandas\n",
    "2. NumPy\n",
    "3. Scikit-learn\n",
    "4. TensorFlow\n",
    "5. Matplotlib"
   ]
  },
  {
   "cell_type": "markdown",
   "id": "333b55d7-2680-4ce7-a786-c4c28bfc4bb2",
   "metadata": {},
   "source": [
    "| Data Science Tools  |\r\n",
    "|---------------------|\r\n",
    "| Jupyter Notebook     |\r\n",
    "| RStudio             |\r\n",
    "| Apache Zeppelin     |\r\n"
   ]
  },
  {
   "cell_type": "markdown",
   "id": "00229683-cf43-4b82-a679-a643ee91a202",
   "metadata": {},
   "source": [
    "### Below are a few examples of evaluating arithmetic expressions in Python.\r\n"
   ]
  },
  {
   "cell_type": "code",
   "execution_count": 5,
   "id": "7904edf7-3f48-46b2-b51a-1b96b1b447d5",
   "metadata": {},
   "outputs": [
    {
     "data": {
      "text/plain": [
       "17"
      ]
     },
     "execution_count": 5,
     "metadata": {},
     "output_type": "execute_result"
    }
   ],
   "source": [
    "# This a simple arithmetic expression to multiply then add integers\n",
    "(3*4)+5"
   ]
  },
  {
   "cell_type": "code",
   "execution_count": 6,
   "id": "d9c76ca1-24f9-4242-b393-087f2377afeb",
   "metadata": {},
   "outputs": [
    {
     "data": {
      "text/plain": [
       "3.3333333333333335"
      ]
     },
     "execution_count": 6,
     "metadata": {},
     "output_type": "execute_result"
    }
   ],
   "source": [
    "# This will convert 200 minutes to hours by dividing by 60\n",
    "200 / 60"
   ]
  },
  {
   "cell_type": "markdown",
   "id": "64883d14-5518-4575-bafc-2c499e4a9269",
   "metadata": {},
   "source": [
    "## Author\r",
    "Dinh Le Anhe\r\n"
   ]
  },
  {
   "cell_type": "code",
   "execution_count": null,
   "id": "2e6f23c8-6651-4c9b-b2a4-31c5b09fa9b0",
   "metadata": {},
   "outputs": [],
   "source": []
  }
 ],
 "metadata": {
  "kernelspec": {
   "display_name": "Python 3 (ipykernel)",
   "language": "python",
   "name": "python3"
  },
  "language_info": {
   "codemirror_mode": {
    "name": "ipython",
    "version": 3
   },
   "file_extension": ".py",
   "mimetype": "text/x-python",
   "name": "python",
   "nbconvert_exporter": "python",
   "pygments_lexer": "ipython3",
   "version": "3.12.4"
  }
 },
 "nbformat": 4,
 "nbformat_minor": 5
}
